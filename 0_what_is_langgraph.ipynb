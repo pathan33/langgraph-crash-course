{
 "cells": [
  {
   "cell_type": "markdown",
   "id": "1c2a0c3c",
   "metadata": {},
   "source": [
    "# [Langgraph](https://youtu.be/CnXdddeZ4tQ?si=ERmwMIYPdheKZ1Cl)\n"
   ]
  },
  {
   "cell_type": "markdown",
   "id": "37f096c4",
   "metadata": {},
   "source": [
    "![alt text](image.png)"
   ]
  },
  {
   "cell_type": "markdown",
   "id": "1f48bb00",
   "metadata": {},
   "source": []
  },
  {
   "cell_type": "markdown",
   "id": "1d51d303",
   "metadata": {},
   "source": []
  }
 ],
 "metadata": {
  "language_info": {
   "name": "python"
  }
 },
 "nbformat": 4,
 "nbformat_minor": 5
}
